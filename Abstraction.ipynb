{
 "cells": [
  {
   "cell_type": "code",
   "execution_count": 5,
   "id": "db84daf4-e925-42ce-92fe-b26126941b41",
   "metadata": {},
   "outputs": [],
   "source": [
    "import abc\n",
    "class Company :\n",
    "    \n",
    "    @abc.abstractmethod\n",
    "    def Company_place(self) :\n",
    "        pass\n",
    "    \n",
    "    @abc.abstractmethod\n",
    "    def Company_member(self) :\n",
    "        pass\n",
    "    \n",
    "    @abc.abstractmethod\n",
    "    def Company_employee(self) :\n",
    "        pass"
   ]
  },
  {
   "cell_type": "code",
   "execution_count": 6,
   "id": "3c6f3ae9-c5c9-41c9-9205-6a8959ffe3cb",
   "metadata": {},
   "outputs": [],
   "source": [
    "class Company_info(Company) :\n",
    "    def Company_place(self) :\n",
    "        return 'This is the best place for Company'\n",
    "    def Company_member(self) :\n",
    "        return 'This is the best member in Company' \n",
    "    def Company_employee(self) :\n",
    "        return 'This is the best company employee'"
   ]
  },
  {
   "cell_type": "code",
   "execution_count": 7,
   "id": "48c50a02-9253-4933-8da4-770c34e818e3",
   "metadata": {},
   "outputs": [],
   "source": [
    "class data_science_masters(Company) :\n",
    "    def Company_place(self) :\n",
    "        return 'This is one of the best place for company'\n",
    "    def Company_member(self) :\n",
    "        return 'This is one of the best member in Company'\n",
    "    def Company_employee(self) :\n",
    "        return 'This is one of the best company employee'"
   ]
  },
  {
   "cell_type": "code",
   "execution_count": 8,
   "id": "217fd848-d952-4bfd-8936-158fe6563aa4",
   "metadata": {},
   "outputs": [
    {
     "data": {
      "text/plain": [
       "'This is one of the best place for company'"
      ]
     },
     "execution_count": 8,
     "metadata": {},
     "output_type": "execute_result"
    }
   ],
   "source": [
    "dsm = data_science_masters()\n",
    "dsm.Company_place()"
   ]
  },
  {
   "cell_type": "code",
   "execution_count": 10,
   "id": "f7001be0-d31a-45ac-ac0b-285848c5f305",
   "metadata": {},
   "outputs": [
    {
     "data": {
      "text/plain": [
       "'This is the best place for Company'"
      ]
     },
     "execution_count": 10,
     "metadata": {},
     "output_type": "execute_result"
    }
   ],
   "source": [
    "c = Company_info()\n",
    "c.Company_place()"
   ]
  },
  {
   "cell_type": "code",
   "execution_count": 12,
   "id": "2d91f300-bd64-4ca3-b7ac-df6042757c62",
   "metadata": {},
   "outputs": [
    {
     "data": {
      "text/plain": [
       "'This is one of the best member in Company'"
      ]
     },
     "execution_count": 12,
     "metadata": {},
     "output_type": "execute_result"
    }
   ],
   "source": [
    "dsm.Company_member()"
   ]
  },
  {
   "cell_type": "code",
   "execution_count": 13,
   "id": "7c9e12c7-33ed-4d4f-b122-52b0db33349e",
   "metadata": {},
   "outputs": [
    {
     "data": {
      "text/plain": [
       "'This is the best member in Company'"
      ]
     },
     "execution_count": 13,
     "metadata": {},
     "output_type": "execute_result"
    }
   ],
   "source": [
    "c.Company_member()"
   ]
  },
  {
   "cell_type": "code",
   "execution_count": 14,
   "id": "d97e7db2-d43c-45c7-a30b-12afd7349d27",
   "metadata": {},
   "outputs": [
    {
     "data": {
      "text/plain": [
       "'This is one of the best place for company'"
      ]
     },
     "execution_count": 14,
     "metadata": {},
     "output_type": "execute_result"
    }
   ],
   "source": [
    "dsm.Company_place()"
   ]
  },
  {
   "cell_type": "code",
   "execution_count": 15,
   "id": "1ffdbfc4-3993-45b4-a0c6-614944851c9c",
   "metadata": {},
   "outputs": [
    {
     "data": {
      "text/plain": [
       "'This is the best place for Company'"
      ]
     },
     "execution_count": 15,
     "metadata": {},
     "output_type": "execute_result"
    }
   ],
   "source": [
    "c.Company_place()"
   ]
  },
  {
   "cell_type": "code",
   "execution_count": null,
   "id": "06fe9974-0c8f-4f62-b5e0-fcb10ac6d4dc",
   "metadata": {},
   "outputs": [],
   "source": []
  }
 ],
 "metadata": {
  "kernelspec": {
   "display_name": "Python 3 (ipykernel)",
   "language": "python",
   "name": "python3"
  },
  "language_info": {
   "codemirror_mode": {
    "name": "ipython",
    "version": 3
   },
   "file_extension": ".py",
   "mimetype": "text/x-python",
   "name": "python",
   "nbconvert_exporter": "python",
   "pygments_lexer": "ipython3",
   "version": "3.10.8"
  }
 },
 "nbformat": 4,
 "nbformat_minor": 5
}
